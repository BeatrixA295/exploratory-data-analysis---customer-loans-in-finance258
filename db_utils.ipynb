{
 "cells": [
  {
   "cell_type": "code",
   "execution_count": null,
   "metadata": {},
   "outputs": [],
   "source": [
    "import pandas as pd\n",
    "\n",
    "loans_df = pd.read_csv(\"loan_payments_data.csv\")\n",
    "loans_df.head(20)\n"
   ]
  },
  {
   "cell_type": "code",
   "execution_count": null,
   "metadata": {},
   "outputs": [],
   "source": [
    "print(loans_df.dtypes)"
   ]
  },
  {
   "cell_type": "code",
   "execution_count": null,
   "metadata": {},
   "outputs": [],
   "source": [
    "numeric_cols = loans_df.select_dtypes(include=['float64', 'int64'])\n",
    "\n",
    "print(\"Columns with only float or integer data types:\")\n",
    "print(numeric_cols.columns.tolist())"
   ]
  },
  {
   "cell_type": "code",
   "execution_count": null,
   "metadata": {},
   "outputs": [],
   "source": [
    "from db_utils import DataFrameInfo\n",
    "info = DataFrameInfo(loans_df)\n",
    "print(\"Column Data Types:\")\n",
    "info.describe_columns()\n",
    "\n",
    "\n"
   ]
  },
  {
   "cell_type": "code",
   "execution_count": null,
   "metadata": {},
   "outputs": [],
   "source": [
    "from db_utils import NullPercentageCalculator\n",
    "\n",
    "calc = NullPercentageCalculator(loans_df)\n",
    "for column in loans_df:\n",
    "    calc.calculate_null_percentage(column)\n",
    "    "
   ]
  },
  {
   "cell_type": "code",
   "execution_count": null,
   "metadata": {},
   "outputs": [],
   "source": [
    "print(\"\\nStatistical Values:\")\n",
    "print(info.extract_stats().round(4))\n",
    "\n",
    "\n"
   ]
  },
  {
   "cell_type": "code",
   "execution_count": null,
   "metadata": {},
   "outputs": [],
   "source": [
    "info.print_shape()\n",
    "print(\"\\nCount of Null Values:\")\n",
    "print(info.count_null_values())"
   ]
  },
  {
   "cell_type": "code",
   "execution_count": null,
   "metadata": {},
   "outputs": [],
   "source": [
    "from db_utils import Plotter\n",
    "Plotter.plot_skew(loans_df)"
   ]
  },
  {
   "cell_type": "code",
   "execution_count": null,
   "metadata": {},
   "outputs": [],
   "source": [
    "from db_utils import MissingValuesVisual\n",
    "mv_visuals = MissingValuesVisual(loans_df)\n",
    "\n",
    "matrix_before = mv_visuals.show_matrix_before()\n",
    "\n",
    "mv_visuals.show_heatmap_before()\n"
   ]
  },
  {
   "cell_type": "code",
   "execution_count": null,
   "metadata": {},
   "outputs": [],
   "source": [
    "from db_utils import NullPercentageCalculator\n",
    "null_calculator = NullPercentageCalculator(loans_df)\n",
    "\n",
    "# Calculate null percentages for each column\n",
    "null_percentages = null_calculator.calculate_null_percentage()\n",
    "print(\"Null percentages:\")\n",
    "print(null_percentages)\n",
    "\n",
    "# Drop columns with null percentages over a specific threshold (e.g., 50%)\n",
    "null_calculator.drop_high_null_columns(threshold=50)\n",
    "print(\"DataFrame after dropping columns with high null percentages:\")\n",
    "print(null_calculator.df)\n",
    "\n",
    "null_calculator.impute_nulls\n",
    "print(\"Dataframe following imputing the nulls:\")\n",
    "print(null_calculator.df)\n",
    "\n",
    "null_calculator.drop_rows_date_columns\n",
    "print(\"Dataframe after dropping rows in date colums with high null percentages:\")\n",
    "print(null_calculator)\n",
    "\n",
    "null_count_updated = null_calculator.df.isnull().sum()\n",
    "print(\"Null counts in updated DataFrame:\")\n",
    "print(null_count_updated)"
   ]
  },
  {
   "cell_type": "markdown",
   "metadata": {},
   "source": []
  },
  {
   "cell_type": "code",
   "execution_count": null,
   "metadata": {},
   "outputs": [],
   "source": [
    "print(\"\\nCount of Null Values:\")\n",
    "print(info.count_null_values())"
   ]
  },
  {
   "cell_type": "code",
   "execution_count": null,
   "metadata": {},
   "outputs": [],
   "source": [
    "\n"
   ]
  },
  {
   "cell_type": "code",
   "execution_count": null,
   "metadata": {},
   "outputs": [],
   "source": [
    "# Visualize missing values using missingno\n",
    "plt.title('Missing Values Matrix Before Handling')\n",
    "plt.show()\n",
    "\n",
    "msno.heatmap(loans_df)\n",
    "plt.title('Missing Values Heatmap')\n",
    "plt.show()\n",
    "\n",
    "# Visualize missing values after handling\n",
    "msno.matrix(loans_df)\n",
    "plt.title('Missing Values Matrix')\n",
    "plt.show()\n",
    "\n",
    "# Additionally, you can create a heatmap to see the correlation of missingness between columns\n",
    "msno.heatmap(loans_df)\n",
    "plt.title('Missing Values Heatmap')\n",
    "plt.show()"
   ]
  },
  {
   "cell_type": "markdown",
   "metadata": {},
   "source": []
  },
  {
   "cell_type": "code",
   "execution_count": null,
   "metadata": {},
   "outputs": [],
   "source": [
    "plotter = Plotter()\n",
    "numerical_columns= ['']\n",
    "plotter.plot_skew(loans_df, threshold=1)  # Adjust threshold as needed"
   ]
  }
 ],
 "metadata": {
  "kernelspec": {
   "display_name": "Python 3",
   "language": "python",
   "name": "python3"
  },
  "language_info": {
   "codemirror_mode": {
    "name": "ipython",
    "version": 3
   },
   "file_extension": ".py",
   "mimetype": "text/x-python",
   "name": "python",
   "nbconvert_exporter": "python",
   "pygments_lexer": "ipython3",
   "version": "3.10.11"
  }
 },
 "nbformat": 4,
 "nbformat_minor": 2
}
