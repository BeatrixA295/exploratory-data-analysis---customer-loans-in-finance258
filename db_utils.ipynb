{
 "cells": [
  {
   "cell_type": "code",
   "execution_count": null,
   "metadata": {},
   "outputs": [],
   "source": []
  },
  {
   "cell_type": "code",
   "execution_count": 1,
   "metadata": {},
   "outputs": [
    {
     "name": "stdout",
     "output_type": "stream",
     "text": [
      "             id  member_id  loan_amount  funded_amount  funded_amount_inv  \\\n",
      "0      38676116   41461848         8000         8000.0             8000.0   \n",
      "1      38656203   41440010        13200        13200.0            13200.0   \n",
      "2      38656154   41439961        16000        16000.0            16000.0   \n",
      "3      38656128   41439934        15000        15000.0            15000.0   \n",
      "4      38656121   41439927        15000        15000.0            15000.0   \n",
      "...         ...        ...          ...            ...                ...   \n",
      "54226     76597      76583         5000         5000.0             1775.0   \n",
      "54227    142608      74724         5000         5000.0             2350.0   \n",
      "54228    117045      70978         3500         3500.0             2225.0   \n",
      "54229     88854      70699         5000         5000.0              225.0   \n",
      "54230     72323      70694         5000         5000.0              350.0   \n",
      "\n",
      "            term  int_rate  instalment grade sub_grade  ... recoveries  \\\n",
      "0      36 months      7.49      248.82     A        A4  ...       0.00   \n",
      "1      36 months      6.99      407.52     A        A3  ...       0.00   \n",
      "2      36 months      7.49      497.63     A        A4  ...       0.00   \n",
      "3      36 months     14.31      514.93     C        C4  ...       0.00   \n",
      "4      36 months      6.03      456.54     A        A1  ...       0.00   \n",
      "...          ...       ...         ...   ...       ...  ...        ...   \n",
      "54226  36 months      9.01      159.03     B        B2  ...       0.00   \n",
      "54227  36 months     10.59      162.73     C        C2  ...       0.00   \n",
      "54228  36 months      7.43      108.77     A        A2  ...       0.00   \n",
      "54229  36 months      7.43      155.38     A        A2  ...       0.00   \n",
      "54230  36 months     11.54      164.98     C        C5  ...     182.27   \n",
      "\n",
      "      collection_recovery_fee  last_payment_date last_payment_amount  \\\n",
      "0                        0.00           Jan-2022              248.82   \n",
      "1                        0.00           Jan-2022              407.52   \n",
      "2                        0.00           Oct-2021            12850.16   \n",
      "3                        0.00           Jun-2021            13899.67   \n",
      "4                        0.00           Jan-2022              456.54   \n",
      "...                       ...                ...                 ...   \n",
      "54226                    0.00           Jul-2016              160.61   \n",
      "54227                    0.00           Oct-2016              490.01   \n",
      "54228                    0.00           Sep-2016              110.58   \n",
      "54229                    0.00           Mar-2014                0.00   \n",
      "54230                    1.84           Mar-2014              164.97   \n",
      "\n",
      "      next_payment_date last_credit_pull_date collections_12_mths_ex_med  \\\n",
      "0              Feb-2022              Jan-2022                        0.0   \n",
      "1              Feb-2022              Jan-2022                        0.0   \n",
      "2                   NaN              Oct-2021                        0.0   \n",
      "3                   NaN              Jun-2021                        0.0   \n",
      "4              Feb-2022              Jan-2022                        0.0   \n",
      "...                 ...                   ...                        ...   \n",
      "54226               NaN              Jul-2016                        NaN   \n",
      "54227               NaN              Sep-2016                        0.0   \n",
      "54228          Sep-2016              May-2013                        NaN   \n",
      "54229               NaN              May-2013                        NaN   \n",
      "54230          Dec-2014              Jan-2015                        NaN   \n",
      "\n",
      "      mths_since_last_major_derog  policy_code  application_type  \n",
      "0                             5.0            1        INDIVIDUAL  \n",
      "1                             NaN            1        INDIVIDUAL  \n",
      "2                             NaN            1        INDIVIDUAL  \n",
      "3                             NaN            1        INDIVIDUAL  \n",
      "4                             NaN            1        INDIVIDUAL  \n",
      "...                           ...          ...               ...  \n",
      "54226                         NaN            1        INDIVIDUAL  \n",
      "54227                         NaN            1        INDIVIDUAL  \n",
      "54228                         NaN            1        INDIVIDUAL  \n",
      "54229                         NaN            1        INDIVIDUAL  \n",
      "54230                         NaN            1        INDIVIDUAL  \n",
      "\n",
      "[54231 rows x 43 columns]\n"
     ]
    }
   ],
   "source": [
    "%run \"C:\\Users\\justi\\OneDrive\\Documents\\Beatrix\\Data\\AiCore\\exploratory-data-analysis---customer-loans-in-finance258\\db_utils.py\"\n"
   ]
  },
  {
   "cell_type": "code",
   "execution_count": 2,
   "metadata": {},
   "outputs": [
    {
     "name": "stdout",
     "output_type": "stream",
     "text": [
      "id                               int64\n",
      "member_id                        int64\n",
      "loan_amount                      int64\n",
      "funded_amount                  float64\n",
      "funded_amount_inv              float64\n",
      "term                            object\n",
      "int_rate                       float64\n",
      "instalment                     float64\n",
      "grade                           object\n",
      "sub_grade                       object\n",
      "employment_length               object\n",
      "home_ownership                  object\n",
      "annual_inc                     float64\n",
      "verification_status             object\n",
      "issue_date                      object\n",
      "loan_status                     object\n",
      "payment_plan                    object\n",
      "purpose                         object\n",
      "dti                            float64\n",
      "delinq_2yrs                      int64\n",
      "earliest_credit_line            object\n",
      "inq_last_6mths                   int64\n",
      "mths_since_last_delinq         float64\n",
      "mths_since_last_record         float64\n",
      "open_accounts                    int64\n",
      "total_accounts                   int64\n",
      "out_prncp                      float64\n",
      "out_prncp_inv                  float64\n",
      "total_payment                  float64\n",
      "total_payment_inv              float64\n",
      "total_rec_prncp                float64\n",
      "total_rec_int                  float64\n",
      "total_rec_late_fee             float64\n",
      "recoveries                     float64\n",
      "collection_recovery_fee        float64\n",
      "last_payment_date               object\n",
      "last_payment_amount            float64\n",
      "next_payment_date               object\n",
      "last_credit_pull_date           object\n",
      "collections_12_mths_ex_med     float64\n",
      "mths_since_last_major_derog    float64\n",
      "policy_code                      int64\n",
      "application_type                object\n",
      "dtype: object\n"
     ]
    }
   ],
   "source": [
    "\n",
    "loans_df.head(20)\n",
    "\n",
    "print(loans_df.dtypes)"
   ]
  },
  {
   "cell_type": "code",
   "execution_count": 3,
   "metadata": {},
   "outputs": [
    {
     "name": "stdout",
     "output_type": "stream",
     "text": [
      "Column Data Types:\n",
      "id                               int64\n",
      "member_id                        int64\n",
      "loan_amount                      int64\n",
      "funded_amount                  float64\n",
      "funded_amount_inv              float64\n",
      "term                            object\n",
      "int_rate                       float64\n",
      "instalment                     float64\n",
      "grade                           object\n",
      "sub_grade                       object\n",
      "employment_length               object\n",
      "home_ownership                  object\n",
      "annual_inc                     float64\n",
      "verification_status             object\n",
      "issue_date                      object\n",
      "loan_status                     object\n",
      "payment_plan                    object\n",
      "purpose                         object\n",
      "dti                            float64\n",
      "delinq_2yrs                      int64\n",
      "earliest_credit_line            object\n",
      "inq_last_6mths                   int64\n",
      "mths_since_last_delinq         float64\n",
      "mths_since_last_record         float64\n",
      "open_accounts                    int64\n",
      "total_accounts                   int64\n",
      "out_prncp                      float64\n",
      "out_prncp_inv                  float64\n",
      "total_payment                  float64\n",
      "total_payment_inv              float64\n",
      "total_rec_prncp                float64\n",
      "total_rec_int                  float64\n",
      "total_rec_late_fee             float64\n",
      "recoveries                     float64\n",
      "collection_recovery_fee        float64\n",
      "last_payment_date               object\n",
      "last_payment_amount            float64\n",
      "next_payment_date               object\n",
      "last_credit_pull_date           object\n",
      "collections_12_mths_ex_med     float64\n",
      "mths_since_last_major_derog    float64\n",
      "policy_code                      int64\n",
      "application_type                object\n",
      "dtype: object\n"
     ]
    }
   ],
   "source": [
    "\n",
    "info = DataFrameInfo(loans_df)\n",
    "print(\"Column Data Types:\")\n",
    "print(info.describe_columns())\n",
    "\n",
    "\n"
   ]
  },
  {
   "cell_type": "code",
   "execution_count": 4,
   "metadata": {},
   "outputs": [
    {
     "name": "stdout",
     "output_type": "stream",
     "text": [
      "\n",
      "Statistical Values:\n",
      "                 id     member_id   loan_amount  funded_amount  \\\n",
      "count  5.423100e+04  5.423100e+04  54231.000000   51224.000000   \n",
      "mean   7.621797e+06  8.655350e+06  13333.076100   13229.509117   \n",
      "std    9.571362e+06  1.031281e+07   8082.196709    8019.017599   \n",
      "min    5.552100e+04  7.069400e+04    500.000000     500.000000   \n",
      "25%    7.594330e+05  9.587720e+05   7000.000000    7000.000000   \n",
      "50%    7.084590e+06  8.709873e+06  12000.000000   12000.000000   \n",
      "75%    8.860616e+06  1.052714e+07  18000.000000   18000.000000   \n",
      "max    3.867612e+07  4.146185e+07  35000.000000   35000.000000   \n",
      "\n",
      "       funded_amount_inv      int_rate    instalment    annual_inc  \\\n",
      "count       54231.000000  49062.000000  54231.000000  5.423100e+04   \n",
      "mean        12952.622979     13.507328    400.013953  7.222085e+04   \n",
      "std          8099.473527      4.392893    238.920012  5.158934e+04   \n",
      "min             0.000000      5.420000     15.670000  3.300000e+03   \n",
      "25%          6700.000000     10.370000    224.205000  4.500000e+04   \n",
      "50%         11300.000000     13.160000    347.150000  6.100000e+04   \n",
      "75%         18000.000000     16.200000    527.550000  8.600000e+04   \n",
      "max         35000.000000     26.060000   1407.010000  2.039784e+06   \n",
      "\n",
      "                dti   delinq_2yrs  ...  total_payment_inv  total_rec_prncp  \\\n",
      "count  54231.000000  54231.000000  ...       54231.000000     54231.000000   \n",
      "mean      15.867087      0.241799  ...       11788.946618      9407.048589   \n",
      "std        7.623124      0.706706  ...        8363.508506      6958.124264   \n",
      "min        0.000000      0.000000  ...           0.000000         0.000000   \n",
      "25%       10.200000      0.000000  ...        5658.815000      4264.350000   \n",
      "50%       15.600000      0.000000  ...        9835.830000      7644.920000   \n",
      "75%       21.260000      0.000000  ...       15978.200000     12505.625000   \n",
      "max       39.910000     18.000000  ...       55061.000000     35000.020000   \n",
      "\n",
      "       total_rec_int  total_rec_late_fee    recoveries  \\\n",
      "count   54231.000000        54231.000000  54231.000000   \n",
      "mean     2577.757101            0.901512     93.501288   \n",
      "std      2581.657345            6.215792    630.843636   \n",
      "min         0.000000            0.000000      0.000000   \n",
      "25%       889.560000            0.000000      0.000000   \n",
      "50%      1734.640000            0.000000      0.000000   \n",
      "75%      3323.765000            0.000000      0.000000   \n",
      "max     23062.450000          358.680000  27750.000000   \n",
      "\n",
      "       collection_recovery_fee  last_payment_amount  \\\n",
      "count             54231.000000         54231.000000   \n",
      "mean                 10.859057          3130.706393   \n",
      "std                 120.193950          5323.801675   \n",
      "min                   0.000000             0.000000   \n",
      "25%                   0.000000           289.790000   \n",
      "50%                   0.000000           562.670000   \n",
      "75%                   0.000000          3738.120000   \n",
      "max                7002.190000         36115.200000   \n",
      "\n",
      "       collections_12_mths_ex_med  mths_since_last_major_derog  policy_code  \n",
      "count                54180.000000                  7499.000000      54231.0  \n",
      "mean                     0.004208                    42.253634          1.0  \n",
      "std                      0.070990                    21.052360          0.0  \n",
      "min                      0.000000                     0.000000          1.0  \n",
      "25%                      0.000000                    26.000000          1.0  \n",
      "50%                      0.000000                    42.000000          1.0  \n",
      "75%                      0.000000                    59.000000          1.0  \n",
      "max                      4.000000                   146.000000          1.0  \n",
      "\n",
      "[8 rows x 28 columns]\n"
     ]
    }
   ],
   "source": [
    "print(\"\\nStatistical Values:\")\n",
    "print(info.extract_stats())\n",
    "\n",
    "\n"
   ]
  },
  {
   "cell_type": "code",
   "execution_count": 5,
   "metadata": {},
   "outputs": [
    {
     "name": "stdout",
     "output_type": "stream",
     "text": [
      "\n",
      "Distinct Values Count in Categorical Columns:\n",
      "Series([], dtype: float64)\n"
     ]
    }
   ],
   "source": [
    "print(\"\\nDistinct Values Count in Categorical Columns:\")\n",
    "print(info.count_distinct_values())\n",
    "\n"
   ]
  },
  {
   "cell_type": "code",
   "execution_count": 6,
   "metadata": {},
   "outputs": [
    {
     "name": "stdout",
     "output_type": "stream",
     "text": [
      "DataFrame shape: (54231, 43)\n",
      "\n",
      "Count of Null Values:\n",
      "id                                 0\n",
      "member_id                          0\n",
      "loan_amount                        0\n",
      "funded_amount                   3007\n",
      "funded_amount_inv                  0\n",
      "term                            4772\n",
      "int_rate                        5169\n",
      "instalment                         0\n",
      "grade                              0\n",
      "sub_grade                          0\n",
      "employment_length               2118\n",
      "home_ownership                     0\n",
      "annual_inc                         0\n",
      "verification_status                0\n",
      "issue_date                         0\n",
      "loan_status                        0\n",
      "payment_plan                       0\n",
      "purpose                            0\n",
      "dti                                0\n",
      "delinq_2yrs                        0\n",
      "earliest_credit_line               0\n",
      "inq_last_6mths                     0\n",
      "mths_since_last_delinq         31002\n",
      "mths_since_last_record         48050\n",
      "open_accounts                      0\n",
      "total_accounts                     0\n",
      "out_prncp                          0\n",
      "out_prncp_inv                      0\n",
      "total_payment                      0\n",
      "total_payment_inv                  0\n",
      "total_rec_prncp                    0\n",
      "total_rec_int                      0\n",
      "total_rec_late_fee                 0\n",
      "recoveries                         0\n",
      "collection_recovery_fee            0\n",
      "last_payment_date                 73\n",
      "last_payment_amount                0\n",
      "next_payment_date              32608\n",
      "last_credit_pull_date              7\n",
      "collections_12_mths_ex_med        51\n",
      "mths_since_last_major_derog    46732\n",
      "policy_code                        0\n",
      "application_type                   0\n",
      "dtype: int64\n"
     ]
    }
   ],
   "source": [
    "info.print_shape()\n",
    "print(\"\\nCount of Null Values:\")\n",
    "print(info.count_null_values())"
   ]
  },
  {
   "cell_type": "markdown",
   "metadata": {},
   "source": []
  },
  {
   "cell_type": "code",
   "execution_count": null,
   "metadata": {},
   "outputs": [],
   "source": []
  },
  {
   "cell_type": "code",
   "execution_count": null,
   "metadata": {},
   "outputs": [
    {
     "ename": "NameError",
     "evalue": "name 'msno' is not defined",
     "output_type": "error",
     "traceback": [
      "\u001b[1;31m---------------------------------------------------------------------------\u001b[0m",
      "\u001b[1;31mNameError\u001b[0m                                 Traceback (most recent call last)",
      "\u001b[1;32mc:\\Users\\justi\\OneDrive\\Documents\\Beatrix\\Data\\AiCore\\exploratory-data-analysis---customer-loans-in-finance258\\db_utils.ipynb Cell 10\u001b[0m line \u001b[0;36m2\n\u001b[0;32m      <a href='vscode-notebook-cell:/c%3A/Users/justi/OneDrive/Documents/Beatrix/Data/AiCore/exploratory-data-analysis---customer-loans-in-finance258/db_utils.ipynb#X10sZmlsZQ%3D%3D?line=0'>1</a>\u001b[0m \u001b[39m# Visualize missing values using missingno\u001b[39;00m\n\u001b[1;32m----> <a href='vscode-notebook-cell:/c%3A/Users/justi/OneDrive/Documents/Beatrix/Data/AiCore/exploratory-data-analysis---customer-loans-in-finance258/db_utils.ipynb#X10sZmlsZQ%3D%3D?line=1'>2</a>\u001b[0m msno\u001b[39m.\u001b[39mmatrix(loans_df)\n\u001b[0;32m      <a href='vscode-notebook-cell:/c%3A/Users/justi/OneDrive/Documents/Beatrix/Data/AiCore/exploratory-data-analysis---customer-loans-in-finance258/db_utils.ipynb#X10sZmlsZQ%3D%3D?line=2'>3</a>\u001b[0m plt\u001b[39m.\u001b[39mtitle(\u001b[39m'\u001b[39m\u001b[39mMissing Values Matrix Before Handling\u001b[39m\u001b[39m'\u001b[39m)\n\u001b[0;32m      <a href='vscode-notebook-cell:/c%3A/Users/justi/OneDrive/Documents/Beatrix/Data/AiCore/exploratory-data-analysis---customer-loans-in-finance258/db_utils.ipynb#X10sZmlsZQ%3D%3D?line=3'>4</a>\u001b[0m plt\u001b[39m.\u001b[39mshow()\n",
      "\u001b[1;31mNameError\u001b[0m: name 'msno' is not defined"
     ]
    }
   ],
   "source": [
    "# Visualize missing values using missingno\n",
    "msno.matrix(loans_df)\n",
    "plt.title('Missing Values Matrix Before Handling')\n",
    "plt.show()\n",
    "\n",
    "msno.heatmap(loans_df)\n",
    "plt.title('Missing Values Heatmap')\n",
    "plt.show()\n",
    "\n",
    "# Visualize missing values after handling\n",
    "msno.matrix(loans_df)\n",
    "plt.title('Missing Values Matrix')\n",
    "plt.show()\n",
    "\n",
    "# Additionally, you can create a heatmap to see the correlation of missingness between columns\n",
    "msno.heatmap(loans_df)\n",
    "plt.title('Missing Values Heatmap')\n",
    "plt.show()"
   ]
  },
  {
   "cell_type": "markdown",
   "metadata": {},
   "source": []
  },
  {
   "cell_type": "code",
   "execution_count": null,
   "metadata": {},
   "outputs": [
    {
     "data": {
      "image/png": "[encoded data removed]",
      "text/plain": [
       "<Figure size 1000x600 with 1 Axes>"
      ]
     },
     "metadata": {},
     "output_type": "display_data"
    }
   ],
   "source": [
    "plotter = Plotter()\n",
    "numerical_columns= ['']\n",
    "plotter.plot_skew(loans_df, threshold=1)  # Adjust threshold as needed"
   ]
  }
 ],
 "metadata": {
  "kernelspec": {
   "display_name": "Python 3",
   "language": "python",
   "name": "python3"
  },
  "language_info": {
   "codemirror_mode": {
    "name": "ipython",
    "version": 3
   },
   "file_extension": ".py",
   "mimetype": "text/x-python",
   "name": "python",
   "nbconvert_exporter": "python",
   "pygments_lexer": "ipython3",
   "version": "3.10.11"
  }
 },
 "nbformat": 4,
 "nbformat_minor": 2
}
